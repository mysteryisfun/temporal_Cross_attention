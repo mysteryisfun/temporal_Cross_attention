{
 "cells": [
  {
   "cell_type": "code",
   "execution_count": 1,
   "id": "90d48495",
   "metadata": {},
   "outputs": [
    {
     "data": {
      "text/plain": [
       "[LogicalDevice(name='/device:GPU:0', device_type='GPU')]"
      ]
     },
     "execution_count": 1,
     "metadata": {},
     "output_type": "execute_result"
    }
   ],
   "source": [
    "import tensorflow as tf\n",
    "tf.config.experimental.list_logical_devices('GPU')"
   ]
  },
  {
   "cell_type": "code",
   "execution_count": 3,
   "id": "bcad890b",
   "metadata": {},
   "outputs": [
    {
     "name": "stdout",
     "output_type": "stream",
     "text": [
      "GPUs Available: 1\n",
      "GPU 0: /physical_device:GPU:0\n",
      "GPU computation successful!\n",
      "Result tensor device: /job:localhost/replica:0/task:0/device:GPU:0\n"
     ]
    }
   ],
   "source": [
    "import tensorflow as tf\n",
    "\n",
    "def check_cuda_availability_tf():\n",
    "    # Check if GPU is available\n",
    "    gpus = tf.config.list_physical_devices('GPU')\n",
    "    if gpus:\n",
    "        print(f\"GPUs Available: {len(gpus)}\")\n",
    "        for i, gpu in enumerate(gpus):\n",
    "            print(f\"GPU {i}: {gpu.name}\")\n",
    "        \n",
    "        # Test GPU computation\n",
    "        try:\n",
    "            with tf.device('/GPU:0'):\n",
    "                a = tf.random.uniform((1000, 1000))\n",
    "                b = tf.random.uniform((1000, 1000))\n",
    "                c = tf.matmul(a, b)\n",
    "            print(\"GPU computation successful!\")\n",
    "            print(f\"Result tensor device: {c.device}\")\n",
    "        except RuntimeError as e:\n",
    "            print(f\"GPU computation failed: {e}\")\n",
    "    else:\n",
    "        print(\"No GPU available, computations will use CPU.\")\n",
    "\n",
    "if __name__ == \"__main__\":\n",
    "    check_cuda_availability_tf()"
   ]
  }
 ],
 "metadata": {
  "kernelspec": {
   "display_name": "pygpu",
   "language": "python",
   "name": "python3"
  },
  "language_info": {
   "codemirror_mode": {
    "name": "ipython",
    "version": 3
   },
   "file_extension": ".py",
   "mimetype": "text/x-python",
   "name": "python",
   "nbconvert_exporter": "python",
   "pygments_lexer": "ipython3",
   "version": "3.10.16"
  }
 },
 "nbformat": 4,
 "nbformat_minor": 5
}
